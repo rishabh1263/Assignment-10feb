{
 "cells": [
  {
   "cell_type": "markdown",
   "id": "b3b3bc23",
   "metadata": {},
   "source": [
    "##Q1:\n",
    "the syntax for opening a file would look like this:\n",
    "\n",
    "open(\"\", \"\")\n",
    "1)Opening a File\n",
    "2)Reading a File\n",
    "3)Writing / Creating a File\n",
    "4)Closing a File\n",
    "\n",
    "\n",
    "This article was published as a part of the Data Science Blogathon\n",
    "A file is an essential data item stored in one’s computer. Each file can be characterized with its filename & file extension. Python programming language is capable of doing wonders and with time we see a lot of its applications in various domains. One of its wonders handling and organization of files which would save a lot of time for us.\n",
    "\n",
    "File Operations in Python 1\n",
    "Image 1\n",
    " \n",
    "\n",
    "A wide range of functions in Python is capable to cater the need of file operations such as opening, reading, writing, creating files et cetera. In the following guide, we will go through the basic yet most necessary operations which are highly useful during every file handling task.\n",
    "\n",
    "For performing file operations, a file needs to be opened first. Then follows the necessary operations to be performed by the user on our file. After all the desired operations are performed, the file needs to be closed. Closing a file is necessary as it would save the changes made on our file from the current session.\n",
    "\n",
    " \n",
    "\n",
    "Table of Contents\n",
    "Opening a File\n",
    "Reading a File\n",
    "Writing / Creating a File\n",
    "Closing a File\n",
    "Cursor Positioning Methods\n",
    "Truncating a File\n",
    "Renaming a File\n",
    "Deleting a File\n",
    "Extras: The encoding Argument\n",
    "Extras: File Handling using try-except blocks\n",
    "A Practical Example\n",
    "Conclusions\n",
    " \n",
    "\n",
    "Opening a File\n",
    "Opening a file is the fundamental step in every file handling task. This makes sense because, in any file explorer, we first open before performing any reading or writing operations to it.\n",
    "\n",
    "Files in Python can be opened with a built-in open() function. Ideally, it takes two string arguments:\n",
    "\n",
    "1. The file path including the file name and the extension we want to open, is to be passed as a string\n",
    "\n",
    "2. The mode in which we want to open the file, to be passed as a string.\n",
    "\n",
    "Thus, the syntax for opening a file would look like this:\n",
    "\n",
    "open(\"\", \"\")\n",
    "Indeed there are other arguments as well in the open() function which are optional and are used as per the requirement of the user. Let’s look at an example for opening a file. Suppose if we have a file named myfile.txt on our desktop, it can be opened by:\n",
    "\n",
    "open(\"C:UsersRahulDesktopmyfile.txt\")\n",
    "Unquestionably, if our current working directory of the Python file is the same as our file (here desktop), there is no need to specify the full path. In such a case, our open() function would look like:\n",
    "\n",
    "open(\"myfile.txt\")\n",
    "For the ease of code implementation, let us consider our current working directory the same as the location our text files are present for the rest of the article.\n",
    "\n",
    "Python has a wide range of file opening modes available by default. These modes specify in which mode our file needed to be opened. Each file opening mode comes with its default functionality and one can select the appropriate model based on the need. As discussed above, the file opening mode argument is an important factor that decides whether we want to read, write or update the contents of an existing file.\n",
    "\n",
    "Let’s look at each of these modes:\n",
    "\n",
    "1. In ‘r’ mode, the file opens in the read mode. By default, if we don’t specify the mode argument, it will be treated as read or ‘r’ mode. For Example, To open our file myfile.txt in ‘r’ mode:\n",
    "\n",
    "open(\"myfile.txt\") or open(\"myfile.txt\", \"r\")\n",
    "2. In the ‘w’ mode, the file opens in write mode. It removes existing content, if present, in the file. If the specified file doesn’t exist, it creates one with the specified name. For Example, To open our file myfile.txt in ‘w’ mode:\n",
    "\n",
    "open(\"myfile.txt\", \"w\")\n",
    "3. In the ‘a’ mode, the file opens in append mode. It adds content to an existing file (or append at the end of the file). If the specified file doesn’t exist, it creates one with the specified name. It does not remove the existing content from the file. For Example, To open our file myfile.txt in ‘a’ mode:\n",
    "\n",
    "open(\"myfile.txt\", \"a\")\n",
    "4. In the ‘r+’ mode, the file opens in the read & write mode. It does not remove existing content, if present, in the file and does not create a file if not present in the directory. For Example, To open our file myfile.txt in ‘r+‘ mode:\n",
    "\n"
   ]
  },
  {
   "cell_type": "markdown",
   "id": "a2a9e330",
   "metadata": {},
   "source": [
    "##Q2:\n",
    "The close() method closes an open file. You should always close your files, in some cases, due to buffering, changes made to a file may not show until you close the file.\n",
    "\n",
    "\n",
    "Why is it important to close a file?\n",
    "Because files are limited resources managed by the operating system, making sure files are closed after use will protect against hard-to-debug issues like running out of file handles or experiencing corrupted data. The best defense is always to open files with a context manager"
   ]
  },
  {
   "cell_type": "code",
   "execution_count": 6,
   "id": "9500a909",
   "metadata": {},
   "outputs": [],
   "source": [
    "##Q3:\n",
    "f = open(\"test54.txt\", 'w')\n",
    "f.write(\" i want to become a data scientist\")\n",
    "f.close()\n",
    "\n",
    "\n"
   ]
  },
  {
   "cell_type": "code",
   "execution_count": 7,
   "id": "20388912",
   "metadata": {},
   "outputs": [
    {
     "data": {
      "text/plain": [
       "' i want to become a data scientist'"
      ]
     },
     "execution_count": 7,
     "metadata": {},
     "output_type": "execute_result"
    }
   ],
   "source": [
    "f= open(\"test54.txt\", 'r')\n",
    "f.read()\n"
   ]
  },
  {
   "cell_type": "markdown",
   "id": "3bd38c81",
   "metadata": {},
   "source": [
    "##Q4:\n",
    "\n",
    "Read ( ): Returns the read bytes in the form of a string. Reads n bytes; if n is not specified, then reads the entire file. Readline ( ): Reads a line of the file and returns in the form of a string. For specified n, reads at most n bytes."
   ]
  },
  {
   "cell_type": "code",
   "execution_count": 9,
   "id": "92675b95",
   "metadata": {},
   "outputs": [
    {
     "data": {
      "text/plain": [
       "[' i want to become a data scientist']"
      ]
     },
     "execution_count": 9,
     "metadata": {},
     "output_type": "execute_result"
    }
   ],
   "source": [
    "f= open(\"test54.txt\", 'r')\n",
    "f.readlines()\n"
   ]
  },
  {
   "cell_type": "code",
   "execution_count": 10,
   "id": "08a2b853",
   "metadata": {},
   "outputs": [
    {
     "data": {
      "text/plain": [
       "' i want to become a data scientist'"
      ]
     },
     "execution_count": 10,
     "metadata": {},
     "output_type": "execute_result"
    }
   ],
   "source": [
    "f= open(\"test54.txt\", 'r')\n",
    "f.readline()\n"
   ]
  },
  {
   "cell_type": "code",
   "execution_count": 11,
   "id": "6c9dd538",
   "metadata": {},
   "outputs": [
    {
     "data": {
      "text/plain": [
       "' i want to become a data scientist'"
      ]
     },
     "execution_count": 11,
     "metadata": {},
     "output_type": "execute_result"
    }
   ],
   "source": [
    "f= open(\"test54.txt\", 'r')\n",
    "f.read()\n"
   ]
  },
  {
   "cell_type": "markdown",
   "id": "cee978f0",
   "metadata": {},
   "source": [
    "##Q5:\n",
    "The with statement works with the open() function to open a file. Unlike open() where you have to close the file with the close() method, the with statement closes the file for you without you telling it to. This is because the with statement calls 2 built-in methods behind the scene – __enter()__ and __exit()__ "
   ]
  },
  {
   "cell_type": "markdown",
   "id": "44fa9449",
   "metadata": {},
   "source": [
    "When you use with statement with open function, you do not need to close the file at the end, because with would automatically close it for you"
   ]
  },
  {
   "cell_type": "code",
   "execution_count": 17,
   "id": "35a3d0bd",
   "metadata": {},
   "outputs": [],
   "source": [
    "with open(\"test55.txt\", 'w')as f:\n",
    "     f.write(\"this is my write\")\n"
   ]
  },
  {
   "cell_type": "markdown",
   "id": "7a556d58",
   "metadata": {},
   "source": [
    "##Q6:\n",
    "Explain the write() and writelines() functions. Give a suitable example."
   ]
  },
  {
   "cell_type": "markdown",
   "id": "da5418dd",
   "metadata": {},
   "source": [
    "The difference between Write() and WriteLine() method is based on new line character. Write() method displays the output but do not provide a new line character. WriteLine() method displays the output and also provides a new line character it the end of the string, This would set a new line for the next output"
   ]
  },
  {
   "cell_type": "code",
   "execution_count": 37,
   "id": "ee374023",
   "metadata": {},
   "outputs": [],
   "source": [
    "##Example:\n",
    "f = open(\"test55.txt\",'a')\n",
    "f.writelines([\"this is my write\",\"this is my second write\"])\n",
    "f.close()"
   ]
  },
  {
   "cell_type": "code",
   "execution_count": 35,
   "id": "1ceb85a0",
   "metadata": {},
   "outputs": [
    {
     "name": "stdout",
     "output_type": "stream",
     "text": [
      "this is my writethis is my writethis is my second write\n"
     ]
    }
   ],
   "source": [
    "f = open(\"test55.txt\",'r')\n",
    "print(f.read())"
   ]
  },
  {
   "cell_type": "code",
   "execution_count": null,
   "id": "6181e3ef",
   "metadata": {},
   "outputs": [],
   "source": []
  }
 ],
 "metadata": {
  "kernelspec": {
   "display_name": "Python 3 (ipykernel)",
   "language": "python",
   "name": "python3"
  },
  "language_info": {
   "codemirror_mode": {
    "name": "ipython",
    "version": 3
   },
   "file_extension": ".py",
   "mimetype": "text/x-python",
   "name": "python",
   "nbconvert_exporter": "python",
   "pygments_lexer": "ipython3",
   "version": "3.9.13"
  }
 },
 "nbformat": 4,
 "nbformat_minor": 5
}
